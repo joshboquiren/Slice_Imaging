{
 "cells": [
  {
   "cell_type": "code",
   "execution_count": 1,
   "id": "8ac62f17",
   "metadata": {},
   "outputs": [
    {
     "data": {
      "text/plain": [
       "\"\\n@Josh Boquiren\\nVer. I\\nOTIS Lab MUSC\\n9.27.2022\\n\\n==========\\n\\nPurpose:\\nLoop through folders starting from a parent directory. Handles 3-Dimensional NPY arrays. Calculates the averages\\nacross the Z-axis (typically frames across time), then averages the NPYs together, accounting for NaN values, and plots.\\n\\nNotes:\\n* Data organization is key to use this! If structure does not follow particular order, it may not process properly\\n    * Structure should look like:\\n    -> parent folder\\n        -> sub folders for each condition\\n            -> NPY files\\n    * Should try to reformat requirements to match Jackie's folder organization:\\n    -> project parent folder\\n        -> sub-folders for conditions\\n            -> sub-folders for FOVs\\n                -> NPY files\\n* in order to get the comparison plot, you have to custom code that per project I think\\n* Utilize np.squeeze and enumerate functions from Ian's code\\n\\n\""
      ]
     },
     "execution_count": 1,
     "metadata": {},
     "output_type": "execute_result"
    }
   ],
   "source": [
    "\"\"\"\n",
    "@Josh Boquiren\n",
    "Ver. I\n",
    "OTIS Lab MUSC\n",
    "9.27.2022\n",
    "\n",
    "==========\n",
    "\n",
    "Purpose:\n",
    "Loop through folders starting from a parent directory. Handles 3-Dimensional NPY arrays. Calculates the averages\n",
    "across the Z-axis (typically frames across time), then averages the NPYs together, accounting for NaN values, and plots.\n",
    "\n",
    "Notes:\n",
    "* Data organization is key to use this! If structure does not follow particular order, it may not process properly\n",
    "    * Structure should look like:\n",
    "    -> parent folder\n",
    "        -> sub folders for each condition\n",
    "            -> NPY files\n",
    "    * Should try to reformat requirements to match Jackie's folder organization:\n",
    "    -> project parent folder\n",
    "        -> sub-folders for conditions\n",
    "            -> sub-folders for FOVs\n",
    "                -> NPY files\n",
    "* in order to get the comparison plot, you have to custom code that per project I think\n",
    "* Utilize np.squeeze and enumerate functions from Ian's code\n",
    "\n",
    "\"\"\""
   ]
  },
  {
   "cell_type": "code",
   "execution_count": 2,
   "id": "dfcafd6e",
   "metadata": {},
   "outputs": [],
   "source": [
    "#Import Libraries\n",
    "\n",
    "import os #functions on the system\n",
    "import numpy as np #functions on arrays\n",
    "import pandas as pd #functions on DataFrames\n",
    "import matplotlib.pyplot as plt #plot functions\n",
    "import seaborn as sns #more plot functions\n",
    "from scipy.stats import sem #statistic functions\n",
    "import random #random generator"
   ]
  },
  {
   "cell_type": "code",
   "execution_count": 3,
   "id": "091aed4e",
   "metadata": {},
   "outputs": [],
   "source": [
    "#Functions\n",
    "\n",
    "#simple function to calculate the average of a list\n",
    "def avg(arr): #accepts an array as a parameter\n",
    "    length = len(arr)\n",
    "    sigma = 0\n",
    "    for i in arr:\n",
    "        sigma = sigma + i\n",
    "    avg = sigma/length\n",
    "    return(avg) #returns the average...duh\n",
    "\n",
    "#function to calculate the averages of frames per cell across time\n",
    "def NPY_frame_avg(NPY_folder): #accepts a folder of ROIs as a parameter\n",
    "    avg_frames = []\n",
    "    for fov_file in os.listdir(NPY_folder): #iterates through each file in the folder\n",
    "        if fov_file.endswith(\".npy\"):\n",
    "            fov = np.load(os.path.join(NPY_folder, fov_file)) #produces 3D array from NPY file\n",
    "            for cell_arr in fov:\n",
    "                cell_df = pd.DataFrame(cell_arr) #convert to DataFrame for easier handling\n",
    "                means_arr = [] #array for storing frame means\n",
    "                for frame in cell_df:\n",
    "                    frame_mean = cell_df[frame].mean() #.mean() automatically assigns NaN in DataFrames\n",
    "                    means_arr.append(frame_mean)\n",
    "                avg_frames.append(means_arr)\n",
    "    return(avg_frames) #returns an array\n",
    "\n",
    "#function to calculate the baseline (does not subtract baseline)\n",
    "def get_baseline(arr, baseline_start_frame, baseline_end_frame): #accpets an array, and a baseline starting and ending frame\n",
    "    df = pd.DataFrame(arr)\n",
    "    avg_frames = []\n",
    "    for i in df[baseline_start_frame:baseline_end_frame]: #only iterates through specified frames\n",
    "        avg_frames.append(df[i].mean())\n",
    "    return(avg(avg_frames)) #returns a float average\n",
    "    "
   ]
  },
  {
   "cell_type": "code",
   "execution_count": 4,
   "id": "a43fa301",
   "metadata": {
    "scrolled": false
   },
   "outputs": [
    {
     "name": "stdout",
     "output_type": "stream",
     "text": [
      ">>> Enter parent directory file path: C:\\Users\\jboqu\\OneDrive\\Desktop\\OTIS_Lab\\Projects\\PvtChrimson-AstroGC\n",
      ">>> Enter beginning frame interger for baseline (MUST BE AN INTERGER): 0\n",
      ">>> Enter ending frame interger for baseline (MUST BE AN INTERGER): 400\n",
      ">>> Enter an interger for a cut-off value (use for light artifacts - recommend 1): 1\n",
      "\n",
      "Number of items to iterate through:  2 \n",
      "\n",
      "---> Processing: 0Hz\n",
      "AYOOO THERE'S SOMETHING WRONG HERE... division by zero\n",
      "---> Processing: 20Hz\n",
      "AYOOO THERE'S SOMETHING WRONG HERE... division by zero\n"
     ]
    }
   ],
   "source": [
    "#Loop through folders\n",
    "\n",
    "# C:\\Users\\jboqu\\OneDrive\\Desktop\\OTIS_Lab\\Projects\\PvtChrimson-AstroGC\n",
    "\n",
    "parent_dir = input(\">>> Enter parent directory file path: \")\n",
    "baseline_start = int(input(\">>> Enter beginning frame interger for baseline (MUST BE AN INTERGER): \"))\n",
    "baseline_end = int(input(\">>> Enter ending frame interger for baseline (MUST BE AN INTERGER): \"))\n",
    "cutoff = float(input(\">>> Enter an interger for a cut-off value (use for light artifacts - recommend 1): \"))\n",
    "print(\"\\nNumber of items to iterate through: \", len(os.listdir(parent_dir)), \"\\n\")\n",
    "\n",
    "NPY_DICT_ARR = []\n",
    "for folder in os.listdir(parent_dir):\n",
    "    if str(folder).__contains__(\".\"): #condition to avoid processing non-NPY file containing folders\n",
    "        print(\"---> Processing:\", folder, \"\\n!!!ERROR!!! \", folder, \" is not a directory.\")\n",
    "    else:\n",
    "        try: #another exception handler\n",
    "            folder_path = os.path.join(parent_dir, folder)\n",
    "            print(\"---> Processing:\", folder)\n",
    "            averaged_frames = NPY_frame_avg(folder_path) #calls function to average frames\n",
    "            baseline = get_baseline(averaged_frames, baseline_start, baseline_end) #calls function to create baseline\n",
    "            for frame_set in averaged_frames:\n",
    "                new_avg_arr = [] #just a place to store the new values\n",
    "                for frame in frame_set:\n",
    "                    new_val = frame-baseline #subtracting baseline from the original averaged frame\n",
    "                    if new_val < cutoff: #if the new value is below the cutoff, accounting for light artifacts\n",
    "                        new_avg_arr.append(new_val)\n",
    "            NPY_DICT_ARR.append({\"Folder\": folder, \"Array\": new_avg_arr}) #creates a dictionary for reference\n",
    "            print(\"Finished!\")\n",
    "        except Exception as e:\n",
    "            print(\"AYOOO THERE'S SOMETHING WRONG HERE...\", e) #cause why not lol"
   ]
  },
  {
   "cell_type": "code",
   "execution_count": 5,
   "id": "56ea9d8e",
   "metadata": {},
   "outputs": [
    {
     "name": "stderr",
     "output_type": "stream",
     "text": [
      "No artists with labels found to put in legend.  Note that artists whose label start with an underscore are ignored when legend() is called with no argument.\n"
     ]
    },
    {
     "data": {
      "image/png": "[encoded data removed]",
      "text/plain": [
       "<Figure size 1800x700 with 1 Axes>"
      ]
     },
     "metadata": {},
     "output_type": "display_data"
    }
   ],
   "source": [
    "#Make plots\n",
    "\n",
    "try:\n",
    "    colors = [\"red\", \"black\", \"blue\", \"magenta\", \"green\"]\n",
    "    plt.figure(figsize=(18,7))\n",
    "    for ROI_set in NPY_DICT_ARR:\n",
    "        sns.set_style(\"darkgrid\")\n",
    "        plt.plot(ROI_set[\"Array\"], color=colors[random.randint(0,3)], lw=.7, label=ROI_set[\"Folder\"])\n",
    "    plt.legend()\n",
    "    plt.title(\"========== Averaged ROI Plot ==========\", fontsize=20)\n",
    "    plt.show()\n",
    "except Exception as e:\n",
    "    print(e)"
   ]
  }
 ],
 "metadata": {
  "kernelspec": {
   "display_name": "Python 3 (ipykernel)",
   "language": "python",
   "name": "python3"
  },
  "language_info": {
   "codemirror_mode": {
    "name": "ipython",
    "version": 3
   },
   "file_extension": ".py",
   "mimetype": "text/x-python",
   "name": "python",
   "nbconvert_exporter": "python",
   "pygments_lexer": "ipython3",
   "version": "3.9.12"
  }
 },
 "nbformat": 4,
 "nbformat_minor": 5
}
